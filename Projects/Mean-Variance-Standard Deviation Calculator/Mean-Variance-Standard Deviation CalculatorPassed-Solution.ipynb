{
 "cells": [
  {
   "cell_type": "code",
   "execution_count": 1,
   "metadata": {},
   "outputs": [],
   "source": [
    "import numpy as np"
   ]
  },
  {
   "cell_type": "code",
   "execution_count": 2,
   "metadata": {},
   "outputs": [],
   "source": [
    "# Function to perform statistical calculations on a 3x3 matrix created from a list of 9 numbers\n",
    "def calculate(input_list):\n",
    "    if len(input_list) != 9:\n",
    "        raise ValueError(\"List must contain nine numbers.\")\n",
    "\n",
    "    matrix = np.array(input_list).reshape(3, 3)\n",
    "\n",
    "    stats_functions = {\n",
    "        'mean': np.mean,\n",
    "        'variance': np.var,\n",
    "        'standard deviation': np.std,\n",
    "        'max': np.max,\n",
    "        'min': np.min,\n",
    "        'sum': np.sum\n",
    "    }\n",
    "\n",
    "    calculations = {}\n",
    "\n",
    "    for stat_name, func in stats_functions.items():\n",
    "        col_values = func(matrix, axis=0).tolist()  # column-wise\n",
    "        row_values = func(matrix, axis=1).tolist()  # row-wise\n",
    "        overall_value = func(matrix).item()         # entire matrix\n",
    "\n",
    "        calculations[stat_name] = [col_values, row_values, overall_value]\n",
    "\n",
    "    return calculations"
   ]
  },
  {
   "cell_type": "code",
   "execution_count": 3,
   "metadata": {},
   "outputs": [
    {
     "data": {
      "text/plain": [
       "{'mean': [[3.0, 4.0, 5.0], [1.0, 4.0, 7.0], 4.0],\n",
       " 'variance': [[6.0, 6.0, 6.0], [0.6666666666666666, 0.6666666666666666, 0.6666666666666666], 6.666666666666667],\n",
       " 'standard deviation': [[2.449489742783178, 2.449489742783178, 2.449489742783178], [0.816496580927726, 0.816496580927726, 0.816496580927726], 2.581988897471611],\n",
       " 'max': [[6, 7, 8], [2, 5, 8], 8],\n",
       " 'min': [[0, 1, 2], [0, 3, 6], 0],\n",
       " 'sum': [[9, 12, 15], [3, 12, 21], 36]}"
      ]
     },
     "execution_count": 3,
     "metadata": {},
     "output_type": "execute_result"
    }
   ],
   "source": [
    "# Example usage of the calculate function\n",
    "calculate([0, 1, 2, 3, 4, 5, 6, 7, 8])"
   ]
  }
 ],
 "metadata": {
  "kernelspec": {
   "display_name": "Python 3",
   "language": "python",
   "name": "python3"
  },
  "language_info": {
   "codemirror_mode": {
    "name": "ipython",
    "version": 3
   },
   "file_extension": ".py",
   "mimetype": "text/x-python",
   "name": "python",
   "nbconvert_exporter": "python",
   "pygments_lexer": "ipython3",
   "version": "3.7.3"
  }
 },
 "nbformat": 4,
 "nbformat_minor": 4
}
